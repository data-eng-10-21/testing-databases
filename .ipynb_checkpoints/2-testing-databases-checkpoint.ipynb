{
 "cells": [
  {
   "cell_type": "markdown",
   "metadata": {},
   "source": [
    "# Testing with Databases"
   ]
  },
  {
   "cell_type": "markdown",
   "metadata": {},
   "source": [
    "### Introduction"
   ]
  },
  {
   "cell_type": "markdown",
   "metadata": {},
   "source": [
    "Testing applications that use databases is kind of tricky.  For example, if we want to test that a function properly can determine the number of premium users that we have, this means we need to populate a database with premium users, and then ensure our function selects them.  But should we really add new records to our database, just for the purposes of tests?  \n",
    "\n",
    "In this lesson, we'll learn how to test functions that require updating our database and how Pytest can help us in accomplishing this task."
   ]
  },
  {
   "cell_type": "markdown",
   "metadata": {},
   "source": [
    "### A testing strategy"
   ]
  },
  {
   "cell_type": "markdown",
   "metadata": {},
   "source": [
    "To see why writing tests for a database is tricky, let's stick with our `premium_user_count` function.  The function should find all of the users in our users that are premium.  It looks like the following:\n",
    "\n",
    "```python\n",
    "# index.py\n",
    "def premium_user_count():\n",
    "    cursor.execute(\"SELECT COUNT(*) FROM customers WHERE category = 'premium'\")\n",
    "    return cursor.fetchall()\n",
    "```\n",
    "\n",
    "And, if there is one premium user in our database, then our test looks like the following:"
   ]
  },
  {
   "cell_type": "markdown",
   "metadata": {},
   "source": [
    "```python\n",
    "# test_index.py\n",
    "from index import *\n",
    "def test_premium_user_count():\n",
    "    assert premium_user_count() == 1\n",
    "```"
   ]
  },
  {
   "cell_type": "markdown",
   "metadata": {},
   "source": [
    "So notice that above test will only work properly if we first add exactly one premium users to our database - no more, no less.  So we can see that writing tests for methods that rely on a database is tricky because we first need to ensure that our database is in a exactly the correct state.  "
   ]
  },
  {
   "cell_type": "markdown",
   "metadata": {},
   "source": [
    "### How we do it"
   ]
  },
  {
   "cell_type": "markdown",
   "metadata": {},
   "source": [
    "Ensuring proper setup of our database requires a couple of things.  First, it means that we will create a database just for running our tests.  This way, we can add and remove records to the our test database, and it will not affect any real data.  \n",
    "\n",
    "In addition to creating a test database, we'll create certain records just for the purpose of running a test, and then after running the test we'll destroy the records.  This way we can be confident about what is and is not in our database.  \n",
    "\n",
    "So now in our test above, we can do something like the following:"
   ]
  },
  {
   "cell_type": "code",
   "execution_count": 1,
   "metadata": {},
   "outputs": [],
   "source": [
    "def test_premium_user_count():\n",
    "    # setup db with premium customer (and non-premium)\n",
    "    \n",
    "    insert_into = 'INSERT INTO customers (first_name, last_name, category) VALUES (%s, %s, %s)'\n",
    "    cursor.execute(insert_into, ('bob', 'smith', 'premium'))\n",
    "    cursor.execute(insert_into, ('fred', 'samuel', 'standard'))\n",
    "    cursor.commit()\n",
    "    # run test\n",
    "    assert premium_user_count() == 1\n",
    "    \n",
    "    # clean up database\n",
    "    cursor.execute('DELETE FROM customers;')\n",
    "    cursor.commit()"
   ]
  },
  {
   "cell_type": "markdown",
   "metadata": {},
   "source": [
    "So in the above we first ensure our releveant table is clean, then we insert three premium records to the customers table.  Then we check that our `premium_user_count` function returns the correct number of customers, and finally, we clean up our database."
   ]
  },
  {
   "cell_type": "markdown",
   "metadata": {},
   "source": [
    "Of course, this looks pretty messy, and perhaps time consuming.  But don't worry, we'll clean up this code below."
   ]
  },
  {
   "cell_type": "markdown",
   "metadata": {},
   "source": [
    "### Pytest Fixtures"
   ]
  },
  {
   "cell_type": "markdown",
   "metadata": {},
   "source": [
    "Pytest fixtures write us to place our setup of the database, and subsequent cleanup into a separate function -- our fixture.  So if we take another look at the messy code in our test from above:"
   ]
  },
  {
   "cell_type": "code",
   "execution_count": 1,
   "metadata": {},
   "outputs": [],
   "source": [
    "# OLD MESSY VERSION\n",
    "def test_premium_user_count():\n",
    "    # setup db with premium customer (and non-premium)\n",
    "    \n",
    "    insert_into = 'INSERT INTO customers (first_name, last_name, category) VALUES (%s, %s, %s)'\n",
    "    cursor.execute(insert_into, ('bob', 'smith', 'premium'))\n",
    "    cursor.execute(insert_into, ('fred', 'samuel', 'standard'))\n",
    "    cursor.commit()\n",
    "    # run test\n",
    "    assert premium_user_count() == 1\n",
    "    \n",
    "    # clean up database\n",
    "    cursor.execute('DELETE FROM customers;')\n",
    "    cursor.commit()"
   ]
  },
  {
   "cell_type": "markdown",
   "metadata": {},
   "source": [
    "We'll now move the inserting and deleting from our database to a separate function called a fixture."
   ]
  },
  {
   "cell_type": "code",
   "execution_count": 3,
   "metadata": {},
   "outputs": [],
   "source": [
    "import pytest\n",
    "@pytest.fixture()\n",
    "def db_with_premium_customers():\n",
    "    # setup db with premium customer and non-premium \n",
    "    insert_into = 'INSERT INTO customers (first_name, last_name, category) VALUES (%s, %s, %s)'\n",
    "    cursor.execute(insert_into, ('bob', 'smith', 'premium'))\n",
    "    cursor.execute(insert_into, ('fred', 'samuel', 'standard'))\n",
    "    cursor.commit()\n",
    "    yield\n",
    "    # cleanup\n",
    "    cursor.execute('DELETE FROM customers;')\n",
    "    cursor.commit()"
   ]
  },
  {
   "cell_type": "markdown",
   "metadata": {},
   "source": [
    "And now our test looks like the following."
   ]
  },
  {
   "cell_type": "code",
   "execution_count": 5,
   "metadata": {},
   "outputs": [],
   "source": [
    "def test_premium_user_count(db_with_premium_customers):   \n",
    "    assert premium_user_count() == 1"
   ]
  },
  {
   "cell_type": "markdown",
   "metadata": {},
   "source": [
    "So we can see that by passing `db_with_premium_customers` as an argument to our `test_premium_user_count` function, the test first calls our fixture.  This fixture then begins to run, and inserts the premium and standard customer into the database.  Then the `yield` keyword is reached.  This `yields` to the `test_premium_user_count` function, which then checks that the function returns 1, and then our fixture continues to run -- here cleaning up our customers table.\n",
    "\n",
    "So that's a fixture with pytest.  They help to isolate the setup and teardown of our data.  And a benefit of them, is that we can reuse our fixture simply by passing the fixture to another test function."
   ]
  },
  {
   "cell_type": "markdown",
   "metadata": {},
   "source": [
    "The key to understanding fixtures is that they generally follow the same pattern:\n",
    "\n",
    "```python\n",
    "@pytest.fixture()\n",
    "def db_fixture():\n",
    "    # setup\n",
    "    yield\n",
    "    # teardown\n",
    "```"
   ]
  },
  {
   "cell_type": "markdown",
   "metadata": {},
   "source": [
    "We state that we are creating a fixture with the `@pytest.fixture()` decorator.  Then inside our fixture we first perform the setup -- here inserting records to the database -- then the `yield` keyword calls our test, and then our setup is \"torn down\" (by say, deleting the database records).\n",
    "\n",
    "We get our test to call our fixture by just passing through the name of the fixture as an argument to the test: `test_function(db_fixture)`."
   ]
  },
  {
   "cell_type": "markdown",
   "metadata": {},
   "source": [
    "> Let's see the whole thing again:"
   ]
  },
  {
   "cell_type": "code",
   "execution_count": 3,
   "metadata": {},
   "outputs": [],
   "source": [
    "import pytest\n",
    "@pytest.fixture()\n",
    "def db_with_premium_customers():\n",
    "    # setup db with premium customer and non-premium \n",
    "    insert_into = 'INSERT INTO customers (first_name, last_name, category) VALUES (%s, %s, %s)'\n",
    "    cursor.execute(insert_into, ('bob', 'smith', 'premium'))\n",
    "    cursor.execute(insert_into, ('fred', 'samuel', 'standard'))\n",
    "    cursor.commit()\n",
    "    yield\n",
    "    # cleanup\n",
    "    cursor.execute('DELETE FROM customers;')\n",
    "    cursor.commit()\n",
    "    \n",
    "def test_premium_user_count(db_with_premium_customers):   \n",
    "    assert premium_user_count() == 1"
   ]
  },
  {
   "cell_type": "markdown",
   "metadata": {},
   "source": [
    "### Summary"
   ]
  },
  {
   "cell_type": "markdown",
   "metadata": {},
   "source": [
    "In this lesson, we learned how to test database methods.  We do so by first creating a database just for our tests.  Then we use fixtures to both setup our database in the correct state, and cleanup our database when we are done.  \n",
    "\n",
    "A fixture generally follows the following structure:\n",
    "\n",
    "```python\n",
    "@pytest.fixture()\n",
    "def db_fixture():\n",
    "    # setup\n",
    "    yield\n",
    "    # teardown\n",
    "    \n",
    "def test_function(db_fixture):\n",
    "    pass\n",
    "```\n",
    "\n",
    "And in our scenario we can read these steps as the following:\n",
    "\n",
    "* Setup: We first get our database in the correct state by adding some data.  \n",
    "* Yield: Then we yield to our test, which is run (Does our function perform the query properly?)\n",
    "* Teardown: Then we continue on with our fixture cleaning up our database by deleting all records"
   ]
  }
 ],
 "metadata": {
  "kernelspec": {
   "display_name": "Python 3 (ipykernel)",
   "language": "python",
   "name": "python3"
  },
  "language_info": {
   "codemirror_mode": {
    "name": "ipython",
    "version": 3
   },
   "file_extension": ".py",
   "mimetype": "text/x-python",
   "name": "python",
   "nbconvert_exporter": "python",
   "pygments_lexer": "ipython3",
   "version": "3.9.7"
  }
 },
 "nbformat": 4,
 "nbformat_minor": 4
}
